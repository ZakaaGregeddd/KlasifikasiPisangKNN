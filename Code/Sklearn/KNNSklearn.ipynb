{
 "cells": [
  {
   "cell_type": "markdown",
   "id": "c895f4a7",
   "metadata": {},
   "source": [
    "## Kode KNN pakai sklearn/skicit"
   ]
  },
  {
   "cell_type": "code",
   "execution_count": null,
   "id": "8954c1e6",
   "metadata": {},
   "outputs": [
    {
     "name": "stdout",
     "output_type": "stream",
     "text": [
      "Memuat dataset...\n",
      "Melatih model...\n",
      "Menguji model...\n",
      "Menyimpan hasil prediksi...\n",
      "Evaluasi model:\n",
      "              precision    recall  f1-score   support\n",
      "\n",
      "    overripe       0.76      0.76      0.76        29\n",
      "        ripe       0.56      0.63      0.59        30\n",
      "      rotten       0.58      0.44      0.50        34\n",
      "      unripe       0.71      0.85      0.77        20\n",
      "\n",
      "    accuracy                           0.65       113\n",
      "   macro avg       0.65      0.67      0.66       113\n",
      "weighted avg       0.64      0.65      0.64       113\n",
      "\n",
      "Akurasi: 64.60%\n"
     ]
    }
   ],
   "source": [
    "import os\n",
    "import cv2\n",
    "import numpy as np\n",
    "from sklearn.model_selection import train_test_split\n",
    "from sklearn.neighbors import KNeighborsClassifier\n",
    "from sklearn.metrics import classification_report, accuracy_score\n",
    "\n",
    "# Path ke dataset\n",
    "dataset_path = r'd:\\\\Documents\\\\2025\\\\SEM 4\\\\AI\\\\VS\\\\KlasifikasiPisangKNN\\\\DATASETKNN'\n",
    "\n",
    "# Path ke folder hasil\n",
    "output_path = r'd:\\\\Documents\\\\2025\\\\SEM 4\\\\AI\\\\VS\\\\KlasifikasiPisangKNN\\\\Code\\\\Sklearn\\\\ProcessedResults'\n",
    "os.makedirs(output_path, exist_ok=True)\n",
    "\n",
    "# Label folder\n",
    "labels = ['overripe', 'ripe', 'rotten', 'unripe']\n",
    "\n",
    "# Fungsi untuk memuat dataset\n",
    "def load_dataset(dataset_path, labels):\n",
    "    data = []\n",
    "    target = []\n",
    "    file_paths = []  # Simpan path file untuk menyimpan hasil nanti\n",
    "    for label in labels:\n",
    "        folder_path = os.path.join(dataset_path, label)\n",
    "        for file_name in os.listdir(folder_path):\n",
    "            file_path = os.path.join(folder_path, file_name)\n",
    "            # Baca gambar dan ubah ukurannya\n",
    "            image = cv2.imread(file_path)\n",
    "            if image is not None:\n",
    "                image = cv2.resize(image, (64, 64))  # Resize ke 64x64\n",
    "                image = cv2.cvtColor(image, cv2.COLOR_BGR2GRAY)  # Ubah ke grayscale\n",
    "                data.append(image.flatten())  # Flatten gambar\n",
    "                target.append(labels.index(label))  # Gunakan indeks label sebagai target\n",
    "                file_paths.append(file_path)  # Simpan path file\n",
    "    return np.array(data), np.array(target), file_paths\n",
    "\n",
    "# Muat dataset\n",
    "print(\"Memuat dataset...\")\n",
    "X, y, file_paths = load_dataset(dataset_path, labels)\n",
    "\n",
    "# Bagi dataset menjadi data latih dan data uji\n",
    "X_train, X_test, y_train, y_test, file_paths_train, file_paths_test = train_test_split(\n",
    "    X, y, file_paths, test_size=0.2, random_state=42\n",
    ")\n",
    "\n",
    "# Inisialisasi model KNN\n",
    "knn = KNeighborsClassifier(n_neighbors=3)\n",
    "\n",
    "# Latih model\n",
    "print(\"Melatih model...\")\n",
    "knn.fit(X_train, y_train)\n",
    "\n",
    "# Prediksi data uji\n",
    "print(\"Menguji model...\")\n",
    "y_pred = knn.predict(X_test)\n",
    "\n",
    "print(\"Menyimpan hasil prediksi...\")\n",
    "for i, file_path in enumerate(file_paths_test):\n",
    "    # Tentukan folder hasil berdasarkan prediksi\n",
    "    predicted_label = labels[y_pred[i]]\n",
    "    result_folder = os.path.join(output_path, predicted_label)\n",
    "    os.makedirs(result_folder, exist_ok=True)\n",
    "    \n",
    "    # Salin file asli ke folder hasil\n",
    "    file_name = os.path.basename(file_path)\n",
    "    result_path = os.path.join(result_folder, file_name)\n",
    "    image = cv2.imread(file_path)\n",
    "    cv2.imwrite(result_path, image)\n",
    "\n",
    "# Evaluasi model\n",
    "print(\"Evaluasi model:\")\n",
    "print(classification_report(y_test, y_pred, target_names=labels))\n",
    "print(f\"Akurasi: {accuracy_score(y_test, y_pred) * 100:.2f}%\")"
   ]
  }
 ],
 "metadata": {
  "kernelspec": {
   "display_name": "Python 3",
   "language": "python",
   "name": "python3"
  },
  "language_info": {
   "codemirror_mode": {
    "name": "ipython",
    "version": 3
   },
   "file_extension": ".py",
   "mimetype": "text/x-python",
   "name": "python",
   "nbconvert_exporter": "python",
   "pygments_lexer": "ipython3",
   "version": "3.13.2"
  }
 },
 "nbformat": 4,
 "nbformat_minor": 5
}
